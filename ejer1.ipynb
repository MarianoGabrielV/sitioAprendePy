{
  "nbformat": 4,
  "nbformat_minor": 0,
  "metadata": {
    "colab": {
      "provenance": [],
      "authorship_tag": "ABX9TyMQjOsMxD/KX2cs3H6LpakS",
      "include_colab_link": true
    },
    "kernelspec": {
      "name": "python3",
      "display_name": "Python 3"
    },
    "language_info": {
      "name": "python"
    }
  },
  "cells": [
    {
      "cell_type": "markdown",
      "metadata": {
        "id": "view-in-github",
        "colab_type": "text"
      },
      "source": [
        "<a href=\"https://colab.research.google.com/github/MarianoGabrielV/sitioAprendePy/blob/main/ejer1.ipynb\" target=\"_parent\"><img src=\"https://colab.research.google.com/assets/colab-badge.svg\" alt=\"Open In Colab\"/></a>"
      ]
    },
    {
      "cell_type": "markdown",
      "source": [
        "# **Ejercicio 1**\n",
        "Declara cuatro variables de tipo String: nombre, apellido, edad y ciudad.\n",
        "Asigna valores significativos a cada una de estas variables, por ejemplo, tu propio nombre, apellido, edad y ciudad.\n",
        "Luego, imprime cada una de estas variables para mostrar la información personal"
      ],
      "metadata": {
        "id": "WRNQTNd8hIQ5"
      }
    },
    {
      "cell_type": "code",
      "execution_count": 1,
      "metadata": {
        "colab": {
          "base_uri": "https://localhost:8080/"
        },
        "id": "UDKAyx8kgYIu",
        "outputId": "686b140b-f643-4218-ca00-4aba01b91d41"
      },
      "outputs": [
        {
          "output_type": "stream",
          "name": "stdout",
          "text": [
            "Nombre: Juan\n",
            "Apellido: Pérez\n",
            "Edad: 30 años\n",
            "Ciudad: Madrid\n"
          ]
        }
      ],
      "source": [
        "# Ejercicio 1: Variables String\n",
        "nombre = \"Juan\"\n",
        "apellido = \"Pérez\"\n",
        "edad = \"30 años\"\n",
        "ciudad = \"Madrid\"\n",
        "\n",
        "# Imprimir información personal\n",
        "print(\"Nombre:\", nombre)\n",
        "print(\"Apellido:\", apellido)\n",
        "print(\"Edad:\", edad)\n",
        "print(\"Ciudad:\", ciudad)\n"
      ]
    }
  ]
}