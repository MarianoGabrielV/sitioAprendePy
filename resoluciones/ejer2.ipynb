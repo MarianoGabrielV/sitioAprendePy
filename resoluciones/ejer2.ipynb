{
  "nbformat": 4,
  "nbformat_minor": 0,
  "metadata": {
    "colab": {
      "provenance": [],
      "authorship_tag": "ABX9TyOHEljK14HUCK/3RFgwdGYI",
      "include_colab_link": true
    },
    "kernelspec": {
      "name": "python3",
      "display_name": "Python 3"
    },
    "language_info": {
      "name": "python"
    }
  },
  "cells": [
    {
      "cell_type": "markdown",
      "metadata": {
        "id": "view-in-github",
        "colab_type": "text"
      },
      "source": [
        "<a href=\"https://colab.research.google.com/github/MarianoGabrielV/sitioAprendePy/blob/main/ejer2.ipynb\" target=\"_parent\"><img src=\"https://colab.research.google.com/assets/colab-badge.svg\" alt=\"Open In Colab\"/></a>"
      ]
    },
    {
      "cell_type": "markdown",
      "source": [
        "# **Ejercicio 2**\n",
        "Declara cinco variables de tipo String: nombre_completo, profesion, especialidad, años_experiencia y descripcion.\n",
        "Asigna valores a estas variables que reflejen la información de una persona profesional, como su nombre completo, profesión, especialidad, años de experiencia, etc.\n",
        "Utiliza concatenación de cadenas para construir la variable descripcion, combinando la información de las otras variables.\n",
        "Finalmente, imprime el nombre completo y la descripción profesional."
      ],
      "metadata": {
        "id": "gxa-ACB4dAkC"
      }
    },
    {
      "cell_type": "code",
      "source": [
        "# Ejercicio 2: Variables String\n",
        "nombre_completo = \"María Pérez\"\n",
        "profesion = \"Ingeniera\"\n",
        "especialidad = \"Informática\"\n",
        "años_experiencia = \"5 años\"\n",
        "descripcion = \"Soy una \" + profesion + \" con especialidad en \" + especialidad + \" y tengo \" + años_experiencia + \" de experiencia.\"\n",
        "\n",
        "# Imprimir información profesional\n",
        "print(\"Nombre completo:\", nombre_completo)\n",
        "print(\"Descripción profesional:\", descripcion)\n"
      ],
      "metadata": {
        "colab": {
          "base_uri": "https://localhost:8080/"
        },
        "id": "pZsOfDtMdSV6",
        "outputId": "785ece4b-0beb-40ad-d54c-1c850dcd1c9e"
      },
      "execution_count": 1,
      "outputs": [
        {
          "output_type": "stream",
          "name": "stdout",
          "text": [
            "Nombre completo: María Pérez\n",
            "Descripción profesional: Soy una Ingeniera con especialidad en Informática y tengo 5 años de experiencia.\n"
          ]
        }
      ]
    }
  ]
}