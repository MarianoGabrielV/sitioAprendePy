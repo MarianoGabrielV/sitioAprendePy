{
  "nbformat": 4,
  "nbformat_minor": 0,
  "metadata": {
    "colab": {
      "provenance": [],
      "authorship_tag": "ABX9TyPV1XFF3Q+3pSwPvewHJg8A",
      "include_colab_link": true
    },
    "kernelspec": {
      "name": "python3",
      "display_name": "Python 3"
    },
    "language_info": {
      "name": "python"
    }
  },
  "cells": [
    {
      "cell_type": "markdown",
      "metadata": {
        "id": "view-in-github",
        "colab_type": "text"
      },
      "source": [
        "<a href=\"https://colab.research.google.com/github/MarianoGabrielV/sitioAprendePy/blob/main/Plus1-2.ipynb\" target=\"_parent\"><img src=\"https://colab.research.google.com/assets/colab-badge.svg\" alt=\"Open In Colab\"/></a>"
      ]
    },
    {
      "cell_type": "markdown",
      "source": [
        "# **Ejercicio 2**\n",
        "Escribe un programa que imprima el mensaje \"Bienvenido a la programación en Python\" en la pantalla."
      ],
      "metadata": {
        "id": "dropf9tkJV3J"
      }
    },
    {
      "cell_type": "code",
      "source": [
        "print(\"Bienvenido a la programación en Python\")\n"
      ],
      "metadata": {
        "colab": {
          "base_uri": "https://localhost:8080/"
        },
        "id": "0SbkYWBUJegg",
        "outputId": "7a3cc7f4-7d0e-4858-fb94-64ee954d89ee"
      },
      "execution_count": 1,
      "outputs": [
        {
          "output_type": "stream",
          "name": "stdout",
          "text": [
            "Bienvenido a la programación en Python\n"
          ]
        }
      ]
    }
  ]
}