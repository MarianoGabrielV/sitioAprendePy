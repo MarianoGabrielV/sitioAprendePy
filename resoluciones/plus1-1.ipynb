{
  "nbformat": 4,
  "nbformat_minor": 0,
  "metadata": {
    "colab": {
      "provenance": [],
      "authorship_tag": "ABX9TyPl17Kz5jUfeVwjQgZkSjDr",
      "include_colab_link": true
    },
    "kernelspec": {
      "name": "python3",
      "display_name": "Python 3"
    },
    "language_info": {
      "name": "python"
    }
  },
  "cells": [
    {
      "cell_type": "markdown",
      "metadata": {
        "id": "view-in-github",
        "colab_type": "text"
      },
      "source": [
        "<a href=\"https://colab.research.google.com/github/MarianoGabrielV/sitioAprendePy/blob/main/plus1-1.ipynb\" target=\"_parent\"><img src=\"https://colab.research.google.com/assets/colab-badge.svg\" alt=\"Open In Colab\"/></a>"
      ]
    },
    {
      "cell_type": "markdown",
      "source": [
        "# **Ejercicio 1**\n",
        "Escribe un programa que pida al usuario su nombre y luego imprima un saludo personalizado en la pantalla. Por ejemplo, si el usuario ingresa \"Juan\", el programa debe mostrar \"¡Hola, Juan!\"."
      ],
      "metadata": {
        "id": "gC5zSbYSIKbJ"
      }
    },
    {
      "cell_type": "code",
      "source": [
        "nombre = input(\"Ingresa tu nombre: \")\n",
        "print(\"¡Hola, \" + nombre + \"!\")\n"
      ],
      "metadata": {
        "id": "pPTytf7rIQCw"
      },
      "execution_count": null,
      "outputs": []
    }
  ]
}