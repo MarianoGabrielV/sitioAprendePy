{
  "nbformat": 4,
  "nbformat_minor": 0,
  "metadata": {
    "colab": {
      "provenance": [],
      "authorship_tag": "ABX9TyM9ZsFCqcLW/0C2F7HxkTQr",
      "include_colab_link": true
    },
    "kernelspec": {
      "name": "python3",
      "display_name": "Python 3"
    },
    "language_info": {
      "name": "python"
    }
  },
  "cells": [
    {
      "cell_type": "markdown",
      "metadata": {
        "id": "view-in-github",
        "colab_type": "text"
      },
      "source": [
        "<a href=\"https://colab.research.google.com/github/MarianoGabrielV/sitioAprendePy/blob/main/ejer3.ipynb\" target=\"_parent\"><img src=\"https://colab.research.google.com/assets/colab-badge.svg\" alt=\"Open In Colab\"/></a>"
      ]
    },
    {
      "cell_type": "markdown",
      "source": [
        "# **Ejercicio 3**\n",
        "Declara cuatro variables de tipo String relacionadas con un producto: producto, marca, precio y disponibilidad.\n",
        "Asigna valores relevantes a cada una de estas variables, como el nombre del producto, la marca, el precio y la disponibilidad.\n",
        "Luego, imprime cada una de estas variables para mostrar la información del producto."
      ],
      "metadata": {
        "id": "0om1Rb8nj4ly"
      }
    },
    {
      "cell_type": "code",
      "source": [
        "# Ejercicio 3: Variables String\n",
        "producto = \"Computadora portátil\"\n",
        "marca = \"Lenovo\"\n",
        "precio = \"$800\"\n",
        "disponibilidad = \"en stock\"\n",
        "\n",
        "# Imprimir información del producto\n",
        "print(\"Producto:\", producto)\n",
        "print(\"Marca:\", marca)\n",
        "print(\"Precio:\", precio)\n",
        "print(\"Disponibilidad:\", disponibilidad)\n"
      ],
      "metadata": {
        "colab": {
          "base_uri": "https://localhost:8080/"
        },
        "id": "aKMw3pz3j-BY",
        "outputId": "525d02e0-fac3-485b-ebc1-b03d0aa08247"
      },
      "execution_count": 1,
      "outputs": [
        {
          "output_type": "stream",
          "name": "stdout",
          "text": [
            "Producto: Computadora portátil\n",
            "Marca: Lenovo\n",
            "Precio: $800\n",
            "Disponibilidad: en stock\n"
          ]
        }
      ]
    }
  ]
}