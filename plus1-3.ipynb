{
  "nbformat": 4,
  "nbformat_minor": 0,
  "metadata": {
    "colab": {
      "provenance": [],
      "authorship_tag": "ABX9TyPL/Z+rrfylGezKJXPhU3sp",
      "include_colab_link": true
    },
    "kernelspec": {
      "name": "python3",
      "display_name": "Python 3"
    },
    "language_info": {
      "name": "python"
    }
  },
  "cells": [
    {
      "cell_type": "markdown",
      "metadata": {
        "id": "view-in-github",
        "colab_type": "text"
      },
      "source": [
        "<a href=\"https://colab.research.google.com/github/MarianoGabrielV/sitioAprendePy/blob/main/plus1-3.ipynb\" target=\"_parent\"><img src=\"https://colab.research.google.com/assets/colab-badge.svg\" alt=\"Open In Colab\"/></a>"
      ]
    },
    {
      "cell_type": "markdown",
      "source": [
        "# **Ejercicio 3**\n",
        "Escribe un programa que pida al usuario su nombre, edad y ciudad. Luego, imprime esta información en la pantalla en un formato claro. Por ejemplo: \"Nombre: Ana, Edad: 25, Ciudad: Madrid\"."
      ],
      "metadata": {
        "id": "jNt13G9mKUPY"
      }
    },
    {
      "cell_type": "code",
      "execution_count": null,
      "metadata": {
        "id": "kW-9MD7vKJEE"
      },
      "outputs": [],
      "source": [
        "nombre = input(\"Ingresa tu nombre: \")\n",
        "edad = input(\"Ingresa tu edad: \")\n",
        "ciudad = input(\"Ingresa tu ciudad: \")\n",
        "print(\"Nombre: \" + nombre + \", Edad: \" + edad + \", Ciudad: \" + ciudad)\n"
      ]
    }
  ]
}